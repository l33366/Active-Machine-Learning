{
 "cells": [
  {
   "cell_type": "code",
   "execution_count": 1,
   "id": "df0b2331",
   "metadata": {},
   "outputs": [
    {
     "name": "stderr",
     "output_type": "stream",
     "text": [
      "[nltk_data] Downloading package wordnet to\n",
      "[nltk_data]     C:\\Users\\AGNETTA\\AppData\\Roaming\\nltk_data...\n",
      "[nltk_data]   Package wordnet is already up-to-date!\n",
      "[nltk_data] Downloading package averaged_perceptron_tagger to\n",
      "[nltk_data]     C:\\Users\\AGNETTA\\AppData\\Roaming\\nltk_data...\n",
      "[nltk_data]   Package averaged_perceptron_tagger is already up-to-\n",
      "[nltk_data]       date!\n"
     ]
    },
    {
     "data": {
      "text/plain": [
       "True"
      ]
     },
     "execution_count": 1,
     "metadata": {},
     "output_type": "execute_result"
    }
   ],
   "source": [
    "import pandas as pd\n",
    "import numpy as np\n",
    "import seaborn as sns\n",
    "import string\n",
    "import re\n",
    "import nltk\n",
    "nltk.download('wordnet')\n",
    "nltk.download('averaged_perceptron_tagger')"
   ]
  },
  {
   "cell_type": "code",
   "execution_count": 2,
   "id": "9ca73cdf",
   "metadata": {},
   "outputs": [
    {
     "data": {
      "text/plain": [
       "<AxesSubplot:xlabel='category', ylabel='count'>"
      ]
     },
     "execution_count": 2,
     "metadata": {},
     "output_type": "execute_result"
    },
    {
     "data": {
      "image/png": "[encoded data removed]",
      "text/plain": [
       "<Figure size 432x288 with 1 Axes>"
      ]
     },
     "metadata": {
      "needs_background": "light"
     },
     "output_type": "display_data"
    }
   ],
   "source": [
    "tweet_df = pd.read_csv('finalNews.csv', sep=',', encoding='latin-1')\n",
    "tweet_df.head()\n",
    "tweet_df.columns = ['category','comment']\n",
    "sns.countplot(x=\"category\",data=tweet_df)"
   ]
  },
  {
   "cell_type": "code",
   "execution_count": 3,
   "id": "af34cefb",
   "metadata": {},
   "outputs": [
    {
     "name": "stderr",
     "output_type": "stream",
     "text": [
      "[nltk_data] Downloading package stopwords to\n",
      "[nltk_data]     C:\\Users\\AGNETTA\\AppData\\Roaming\\nltk_data...\n",
      "[nltk_data]   Package stopwords is already up-to-date!\n",
      "[nltk_data] Downloading package wordnet to\n",
      "[nltk_data]     C:\\Users\\AGNETTA\\AppData\\Roaming\\nltk_data...\n",
      "[nltk_data]   Package wordnet is already up-to-date!\n",
      "[nltk_data] Downloading package averaged_perceptron_tagger to\n",
      "[nltk_data]     C:\\Users\\AGNETTA\\AppData\\Roaming\\nltk_data...\n",
      "[nltk_data]   Package averaged_perceptron_tagger is already up-to-\n",
      "[nltk_data]       date!\n"
     ]
    }
   ],
   "source": [
    "def remove_punct(text):\n",
    "    text  = \"\".join([char for char in text if char not in string.punctuation])\n",
    "    text = re.sub('[0-9]+', '', text)\n",
    "    return text\n",
    "\n",
    "tweet_df['comment'] = tweet_df['comment'].apply(lambda x: remove_punct(x))\n",
    "\n",
    "import nltk\n",
    "nltk.download('stopwords')\n",
    "stopword = nltk.corpus.stopwords.words('english')\n",
    "\n",
    "from nltk.corpus import stopwords\n",
    "\", \".join(stopwords.words('english'))\n",
    "STOPWORDS = set(stopwords.words('english'))\n",
    "def remove_stopwords(text):\n",
    "    \"\"\"custom function to remove the stopwords\"\"\"\n",
    "    return \" \".join([word for word in str(text).split() if word not in STOPWORDS])\n",
    "\n",
    "tweet_df[\"text_wo_stop\"] = tweet_df[\"comment\"].apply(lambda text: remove_stopwords(text))\n",
    "\n",
    "from nltk.stem.porter import PorterStemmer\n",
    "stemmer = PorterStemmer()\n",
    "def stem_words(text):\n",
    "    return \" \".join([stemmer.stem(word) for word in text.split()])\n",
    "tweet_df[\"text_stemmed\"] = tweet_df[\"text_wo_stop\"].apply(lambda text: stem_words(text))\n",
    "\n",
    "from collections import Counter\n",
    "cnt = Counter()\n",
    "for text in tweet_df[\"text_stemmed\"].values:\n",
    "    for word in text.split():\n",
    "        cnt[word] += 1\n",
    "        \n",
    "FREQWORDS = set([w for (w, wc) in cnt.most_common(10)])\n",
    "def remove_freqwords(text):\n",
    "    \"\"\"custom function to remove the frequent words\"\"\"\n",
    "    return \" \".join([word for word in str(text).split() if word not in FREQWORDS])\n",
    "\n",
    "tweet_df[\"text__stopfreq\"] = tweet_df[\"text_stemmed\"].apply(lambda text: remove_freqwords(text))\n",
    "\n",
    "nltk.download('wordnet')\n",
    "nltk.download('averaged_perceptron_tagger')\n",
    "\n",
    "from nltk.corpus import wordnet\n",
    "from nltk.stem import WordNetLemmatizer\n",
    "\n",
    "lemmatizer = WordNetLemmatizer()\n",
    "wordnet_map = {\"N\":wordnet.NOUN, \"V\":wordnet.VERB, \"J\":wordnet.ADJ, \"R\":wordnet.ADV}\n",
    "def lemmatize_words(text):\n",
    "    pos_tagged_text = nltk.pos_tag(text.split())\n",
    "    return \" \".join([lemmatizer.lemmatize(word, wordnet_map.get(pos[0], wordnet.NOUN)) for word, pos in pos_tagged_text])\n",
    "\n",
    "tweet_df[\"text_lemmatized\"] = tweet_df[\"text__stopfreq\"].apply(lambda text: lemmatize_words(text))\n",
    "\n",
    "tweet_df=tweet_df.drop([\"text_stemmed\",\"text__stopfreq\"],axis=1)\n",
    "\n",
    "from sklearn.preprocessing import LabelEncoder\n",
    "tweet_df['encoded_category'] = LabelEncoder().fit_transform(tweet_df['category'])\n",
    "tweet_df[[\"category\", \"encoded_category\"]] \n",
    "\n",
    "def clean_review(text):\n",
    "    clean_text = []\n",
    "    for w in word_tokenize(text):\n",
    "        if w.lower() not in stop:\n",
    "            pos = pos_tag([w])\n",
    "            new_w = lemmatizer.lemmatize(w, pos=get_simple_pos(pos[0][1]))\n",
    "            clean_text.append(new_w)\n",
    "    return clean_text\n",
    "\n",
    "def join_text(text):\n",
    "    return \" \".join(text)\n",
    "\n",
    "tweet_df=tweet_df.drop([\"category\",\"text_wo_stop\"],axis=1)\n",
    "\n"
   ]
  },
  {
   "cell_type": "code",
   "execution_count": 4,
   "id": "f67b621f",
   "metadata": {},
   "outputs": [
    {
     "data": {
      "text/html": [
       "<div>\n",
       "<style scoped>\n",
       "    .dataframe tbody tr th:only-of-type {\n",
       "        vertical-align: middle;\n",
       "    }\n",
       "\n",
       "    .dataframe tbody tr th {\n",
       "        vertical-align: top;\n",
       "    }\n",
       "\n",
       "    .dataframe thead th {\n",
       "        text-align: right;\n",
       "    }\n",
       "</style>\n",
       "<table border=\"1\" class=\"dataframe\">\n",
       "  <thead>\n",
       "    <tr style=\"text-align: right;\">\n",
       "      <th></th>\n",
       "      <th>comment</th>\n",
       "      <th>text_lemmatized</th>\n",
       "      <th>encoded_category</th>\n",
       "    </tr>\n",
       "  </thead>\n",
       "  <tbody>\n",
       "    <tr>\n",
       "      <th>0</th>\n",
       "      <td>According to Gran  the company has no plans to...</td>\n",
       "      <td>accord gran plan move product russia although ...</td>\n",
       "      <td>1</td>\n",
       "    </tr>\n",
       "    <tr>\n",
       "      <th>1</th>\n",
       "      <td>Technopolis plans to develop in stages an area...</td>\n",
       "      <td>technopoli plan develop stage area less squar ...</td>\n",
       "      <td>1</td>\n",
       "    </tr>\n",
       "    <tr>\n",
       "      <th>2</th>\n",
       "      <td>The international electronic industry company ...</td>\n",
       "      <td>intern electron industri elcoteq lay ten emplo...</td>\n",
       "      <td>0</td>\n",
       "    </tr>\n",
       "    <tr>\n",
       "      <th>3</th>\n",
       "      <td>With the new production plant the company woul...</td>\n",
       "      <td>with new product plant would increas capac mee...</td>\n",
       "      <td>2</td>\n",
       "    </tr>\n",
       "    <tr>\n",
       "      <th>4</th>\n",
       "      <td>According to the company s updated strategy fo...</td>\n",
       "      <td>accord updat strategi year baswar target longt...</td>\n",
       "      <td>2</td>\n",
       "    </tr>\n",
       "  </tbody>\n",
       "</table>\n",
       "</div>"
      ],
      "text/plain": [
       "                                             comment  \\\n",
       "0  According to Gran  the company has no plans to...   \n",
       "1  Technopolis plans to develop in stages an area...   \n",
       "2  The international electronic industry company ...   \n",
       "3  With the new production plant the company woul...   \n",
       "4  According to the company s updated strategy fo...   \n",
       "\n",
       "                                     text_lemmatized  encoded_category  \n",
       "0  accord gran plan move product russia although ...                 1  \n",
       "1  technopoli plan develop stage area less squar ...                 1  \n",
       "2  intern electron industri elcoteq lay ten emplo...                 0  \n",
       "3  with new product plant would increas capac mee...                 2  \n",
       "4  accord updat strategi year baswar target longt...                 2  "
      ]
     },
     "execution_count": 4,
     "metadata": {},
     "output_type": "execute_result"
    }
   ],
   "source": [
    "tweet_df.head()"
   ]
  },
  {
   "cell_type": "code",
   "execution_count": 24,
   "id": "8a51209a",
   "metadata": {},
   "outputs": [],
   "source": [
    "from sklearn.linear_model import LogisticRegression\n",
    "from sklearn.naive_bayes import GaussianNB\n",
    "from sklearn.naive_bayes import BernoulliNB\n",
    "from sklearn.naive_bayes import MultinomialNB\n",
    "from sklearn.naive_bayes import MultinomialNB\n",
    "\n",
    "from sklearn.ensemble import GradientBoostingClassifier\n",
    "from sklearn.tree import DecisionTreeClassifier\n",
    "from sklearn.neighbors import KNeighborsClassifier\n",
    "from sklearn.linear_model import SGDClassifier\n",
    "from sklearn.ensemble import RandomForestClassifier\n",
    "\n",
    "from sklearn.model_selection import train_test_split\n",
    "from sklearn.pipeline import Pipeline\n",
    "from sklearn.feature_extraction.text import TfidfVectorizer\n",
    "from sklearn.svm import LinearSVC\n",
    "from sklearn.metrics import accuracy_score\n",
    "from sklearn.feature_extraction.text import TfidfTransformer\n",
    "\n",
    "from sklearn.metrics import accuracy_score, confusion_matrix,classification_report\n",
    "\n"
   ]
  },
  {
   "cell_type": "code",
   "execution_count": 25,
   "id": "33df3289",
   "metadata": {},
   "outputs": [],
   "source": [
    "def batch_selector(dataset,samples_no):\n",
    "    training_batch=dataset.iloc[:samples_no]\n",
    "    unlabelled_batch=dataset.iloc[samples_no:]\n",
    "    return training_batch, unlabelled_batch"
   ]
  },
  {
   "cell_type": "code",
   "execution_count": 26,
   "id": "3f0e977e",
   "metadata": {},
   "outputs": [],
   "source": [
    "encoded_dict  = {'negtive':0,'neutral':1,'positive':2}"
   ]
  },
  {
   "cell_type": "code",
   "execution_count": 27,
   "id": "89416868",
   "metadata": {},
   "outputs": [
    {
     "name": "stdout",
     "output_type": "stream",
     "text": [
      "positive:(1363, 3)\n",
      "neutral:(2879, 3)\n",
      "negative:(604, 3)\n"
     ]
    }
   ],
   "source": [
    "df_surprise=tweet_df[tweet_df['encoded_category']==0]\n",
    "df_fear    =tweet_df[tweet_df['encoded_category']==1]\n",
    "df_joy     =tweet_df[tweet_df['encoded_category']==2]\n",
    "\n",
    "\n",
    "print(f'positive:{df_joy.shape}')\n",
    "print(f'neutral:{df_fear.shape}')\n",
    "print(f'negative:{df_surprise.shape}')"
   ]
  },
  {
   "cell_type": "code",
   "execution_count": 9,
   "id": "97e86408",
   "metadata": {},
   "outputs": [
    {
     "name": "stdout",
     "output_type": "stream",
     "text": [
      "MODEL - LINEAR SVC\n",
      "accuracy score: 51.91%\n",
      "[[ 280   90  134]\n",
      " [ 689 1677  413]\n",
      " [ 348  512  403]]\n",
      "              precision    recall  f1-score   support\n",
      "\n",
      "           0       0.21      0.56      0.31       504\n",
      "           1       0.74      0.60      0.66      2779\n",
      "           2       0.42      0.32      0.36      1263\n",
      "\n",
      "    accuracy                           0.52      4546\n",
      "   macro avg       0.46      0.49      0.44      4546\n",
      "weighted avg       0.59      0.52      0.54      4546\n",
      "\n"
     ]
    }
   ],
   "source": [
    "No_samples=100\n",
    "surprise_train,surprise_test=batch_selector(df_surprise,No_samples)\n",
    "fear_train,fear_test=batch_selector(df_fear,No_samples)\n",
    "joy_train,joy_test=batch_selector(df_joy,No_samples)\n",
    "\n",
    "\n",
    "test250 = pd.concat([surprise_test,fear_test,joy_test], axis = 0)\n",
    "train250= pd.concat([surprise_train,fear_train,joy_train], axis = 0)\n",
    "\n",
    "\n",
    "pipe1 = Pipeline([('tfidf', TfidfVectorizer()),\n",
    "                 ('model', LinearSVC())])\n",
    "\n",
    "model = pipe1.fit(train250.text_lemmatized, train250.encoded_category)\n",
    "prediction = model.predict(test250.text_lemmatized)\n",
    "print(\"MODEL - LINEAR SVC\")\n",
    "print(\"accuracy score: {}%\".format(round(accuracy_score(test250.encoded_category, prediction)*100,2)))\n",
    "print(confusion_matrix(test250.encoded_category, prediction))\n",
    "print(classification_report(test250.encoded_category, prediction))"
   ]
  },
  {
   "cell_type": "code",
   "execution_count": 28,
   "id": "000609e1",
   "metadata": {},
   "outputs": [],
   "source": [
    "#model.predict_proba(test250.text_lemmatized)\n",
    "from sklearn.calibration import CalibratedClassifierCV\n",
    "linear_svc = LinearSVC()     #The base estimator\n",
    "\n",
    "# This is the calibrated classifier which can give probabilistic classifier\n",
    "calibrated_svc = CalibratedClassifierCV(linear_svc,\n",
    "                                        method='sigmoid',  #sigmoid will use Platt's scaling. Refer to documentation for other methods.\n",
    "                                        cv=3) \n",
    "pipe2 = Pipeline([('tfidf', TfidfVectorizer()),\n",
    "                 ('model', calibrated_svc)])\n",
    "model2 = pipe2.fit(train250.text_lemmatized, train250.encoded_category)\n",
    "prediction = model2.predict_proba(test250.text_lemmatized)\n"
   ]
  },
  {
   "cell_type": "code",
   "execution_count": 11,
   "id": "6b9549b5",
   "metadata": {},
   "outputs": [
    {
     "data": {
      "text/plain": [
       "(4546, 3)"
      ]
     },
     "execution_count": 11,
     "metadata": {},
     "output_type": "execute_result"
    }
   ],
   "source": [
    "prediction.shape"
   ]
  },
  {
   "cell_type": "code",
   "execution_count": null,
   "id": "0cebd052",
   "metadata": {},
   "outputs": [],
   "source": []
  },
  {
   "cell_type": "code",
   "execution_count": 12,
   "id": "8dc8540d",
   "metadata": {},
   "outputs": [],
   "source": [
    "def num_sim(n1, n2):\n",
    "  \"\"\" calculates a similarity score between 2 numbers \"\"\"\n",
    "  return 1 - abs(n1 - n2) / (n1 + n2)\n",
    "\n",
    "def maxConflictFinder(array):\n",
    "    a_list = list(array)\n",
    "    are= list(array)\n",
    "    max_value = max(a_list)\n",
    "    max_index = a_list.index(max_value)\n",
    "    maxele=a_list.pop(max_index)\n",
    "    for i in range(len(a_list)):\n",
    "        intdiff=num_sim(a_list[i],maxele)\n",
    "        if((intdiff>0.90)):\n",
    "            return are.index(a_list[i]),are.index(maxele)\n",
    "        else:\n",
    "            return None\n",
    "        \n",
    "        \n"
   ]
  },
  {
   "cell_type": "code",
   "execution_count": 13,
   "id": "dbda2851",
   "metadata": {},
   "outputs": [],
   "source": [
    "lis=[]\n",
    "lis3=[]\n",
    "for i in prediction:\n",
    "    if (maxConflictFinder(i) != None):\n",
    "        lis.append(maxConflictFinder(i))\n",
    "        lis3.append(i)\n",
    "        "
   ]
  },
  {
   "cell_type": "code",
   "execution_count": 14,
   "id": "3a978bdc",
   "metadata": {},
   "outputs": [
    {
     "data": {
      "text/plain": [
       "557"
      ]
     },
     "execution_count": 14,
     "metadata": {},
     "output_type": "execute_result"
    }
   ],
   "source": [
    "len(lis)"
   ]
  },
  {
   "cell_type": "code",
   "execution_count": 15,
   "id": "284b17d5",
   "metadata": {},
   "outputs": [
    {
     "data": {
      "text/plain": [
       "557"
      ]
     },
     "execution_count": 15,
     "metadata": {},
     "output_type": "execute_result"
    }
   ],
   "source": [
    "len(lis3)"
   ]
  },
  {
   "cell_type": "code",
   "execution_count": null,
   "id": "22f16c71",
   "metadata": {},
   "outputs": [],
   "source": []
  },
  {
   "cell_type": "code",
   "execution_count": 16,
   "id": "03681750",
   "metadata": {},
   "outputs": [
    {
     "data": {
      "text/plain": [
       "557"
      ]
     },
     "execution_count": 16,
     "metadata": {},
     "output_type": "execute_result"
    }
   ],
   "source": [
    "len(lis)"
   ]
  },
  {
   "cell_type": "code",
   "execution_count": 17,
   "id": "c235e891",
   "metadata": {},
   "outputs": [
    {
     "data": {
      "text/html": [
       "<div>\n",
       "<style scoped>\n",
       "    .dataframe tbody tr th:only-of-type {\n",
       "        vertical-align: middle;\n",
       "    }\n",
       "\n",
       "    .dataframe tbody tr th {\n",
       "        vertical-align: top;\n",
       "    }\n",
       "\n",
       "    .dataframe thead th {\n",
       "        text-align: right;\n",
       "    }\n",
       "</style>\n",
       "<table border=\"1\" class=\"dataframe\">\n",
       "  <thead>\n",
       "    <tr style=\"text-align: right;\">\n",
       "      <th></th>\n",
       "      <th>comment</th>\n",
       "      <th>text_lemmatized</th>\n",
       "      <th>encoded_category</th>\n",
       "    </tr>\n",
       "  </thead>\n",
       "  <tbody>\n",
       "    <tr>\n",
       "      <th>3340</th>\n",
       "      <td>The reduction notice applied to  people</td>\n",
       "      <td>reduct notic appli peopl</td>\n",
       "      <td>0</td>\n",
       "    </tr>\n",
       "    <tr>\n",
       "      <th>3491</th>\n",
       "      <td>March  A leakage in the gypsum pond was detec...</td>\n",
       "      <td>march a leakag gypsum pond detect today talviv...</td>\n",
       "      <td>0</td>\n",
       "    </tr>\n",
       "    <tr>\n",
       "      <th>3498</th>\n",
       "      <td>A total of  jobs will be reduced at the Raahe ...</td>\n",
       "      <td>a total job reduc raah steel work</td>\n",
       "      <td>0</td>\n",
       "    </tr>\n",
       "    <tr>\n",
       "      <th>3534</th>\n",
       "      <td>As a result some  persons will no longer be ne...</td>\n",
       "      <td>a result person long need</td>\n",
       "      <td>0</td>\n",
       "    </tr>\n",
       "    <tr>\n",
       "      <th>3543</th>\n",
       "      <td>Biohit said that it will reduce the number of ...</td>\n",
       "      <td>biohit reduc number leas personnel lay personnel</td>\n",
       "      <td>0</td>\n",
       "    </tr>\n",
       "    <tr>\n",
       "      <th>...</th>\n",
       "      <td>...</td>\n",
       "      <td>...</td>\n",
       "      <td>...</td>\n",
       "    </tr>\n",
       "    <tr>\n",
       "      <th>4775</th>\n",
       "      <td>The apartment block will be welllocated  in ea...</td>\n",
       "      <td>apart block wellloc easi reach citi center clo...</td>\n",
       "      <td>2</td>\n",
       "    </tr>\n",
       "    <tr>\n",
       "      <th>4780</th>\n",
       "      <td>The antibody  given at repeated doses of up to...</td>\n",
       "      <td>antibodi give repeat dose mgkg gener well tole...</td>\n",
       "      <td>2</td>\n",
       "    </tr>\n",
       "    <tr>\n",
       "      <th>4786</th>\n",
       "      <td>Danske Bank AS DANSKE DC jumped  percent to  k...</td>\n",
       "      <td>dansk bank a dansk dc jump percent krone rebou...</td>\n",
       "      <td>2</td>\n",
       "    </tr>\n",
       "    <tr>\n",
       "      <th>4787</th>\n",
       "      <td>Our superior customer centricity and expertise...</td>\n",
       "      <td>our superior custom centric expertis digit ser...</td>\n",
       "      <td>2</td>\n",
       "    </tr>\n",
       "    <tr>\n",
       "      <th>4822</th>\n",
       "      <td>The  target for net sales has been set at EUR ...</td>\n",
       "      <td>target net set bn target return invest</td>\n",
       "      <td>2</td>\n",
       "    </tr>\n",
       "  </tbody>\n",
       "</table>\n",
       "<p>4546 rows × 3 columns</p>\n",
       "</div>"
      ],
      "text/plain": [
       "                                                comment  \\\n",
       "3340           The reduction notice applied to  people    \n",
       "3491   March  A leakage in the gypsum pond was detec...   \n",
       "3498  A total of  jobs will be reduced at the Raahe ...   \n",
       "3534  As a result some  persons will no longer be ne...   \n",
       "3543  Biohit said that it will reduce the number of ...   \n",
       "...                                                 ...   \n",
       "4775  The apartment block will be welllocated  in ea...   \n",
       "4780  The antibody  given at repeated doses of up to...   \n",
       "4786  Danske Bank AS DANSKE DC jumped  percent to  k...   \n",
       "4787  Our superior customer centricity and expertise...   \n",
       "4822  The  target for net sales has been set at EUR ...   \n",
       "\n",
       "                                        text_lemmatized  encoded_category  \n",
       "3340                           reduct notic appli peopl                 0  \n",
       "3491  march a leakag gypsum pond detect today talviv...                 0  \n",
       "3498                  a total job reduc raah steel work                 0  \n",
       "3534                          a result person long need                 0  \n",
       "3543   biohit reduc number leas personnel lay personnel                 0  \n",
       "...                                                 ...               ...  \n",
       "4775  apart block wellloc easi reach citi center clo...                 2  \n",
       "4780  antibodi give repeat dose mgkg gener well tole...                 2  \n",
       "4786  dansk bank a dansk dc jump percent krone rebou...                 2  \n",
       "4787  our superior custom centric expertis digit ser...                 2  \n",
       "4822             target net set bn target return invest                 2  \n",
       "\n",
       "[4546 rows x 3 columns]"
      ]
     },
     "execution_count": 17,
     "metadata": {},
     "output_type": "execute_result"
    }
   ],
   "source": [
    "test250\n"
   ]
  },
  {
   "cell_type": "code",
   "execution_count": 18,
   "id": "1026881c",
   "metadata": {},
   "outputs": [
    {
     "name": "stdout",
     "output_type": "stream",
     "text": [
      "4 0.962962962962963\n",
      "65\n",
      "[35, 25, 10, 65, 6]\n"
     ]
    }
   ],
   "source": [
    "k=[35,25,70,10,65,6]\n",
    "a_list = list(k)\n",
    "are= list(k)\n",
    "max_value = max(a_list)\n",
    "max_index = a_list.index(max_value)\n",
    "maxele=a_list.pop(max_index)\n",
    "for i in range(len(a_list)):\n",
    "    intdiff=num_sim(a_list[i],maxele)\n",
    "    if((intdiff>0.90)):\n",
    "        print(are.index(a_list[i]),intdiff)\n",
    "        print(a_list[i])\n",
    "print(a_list)"
   ]
  },
  {
   "cell_type": "code",
   "execution_count": 19,
   "id": "d9743638",
   "metadata": {},
   "outputs": [
    {
     "data": {
      "text/plain": [
       "([35, 25, 10, 65, 6], [35, 25, 70, 10, 65, 6])"
      ]
     },
     "execution_count": 19,
     "metadata": {},
     "output_type": "execute_result"
    }
   ],
   "source": [
    "a_list,are"
   ]
  },
  {
   "cell_type": "code",
   "execution_count": 20,
   "id": "63405cb7",
   "metadata": {},
   "outputs": [],
   "source": [
    "def indexGenerator(df):\n",
    "    n,_=df.shape\n",
    "    index=np.arange(0,n)\n",
    "    df['index']=index\n",
    "    df=df.set_index('index')\n",
    "    return df"
   ]
  },
  {
   "cell_type": "code",
   "execution_count": 21,
   "id": "82b70776",
   "metadata": {},
   "outputs": [
    {
     "data": {
      "text/html": [
       "<div>\n",
       "<style scoped>\n",
       "    .dataframe tbody tr th:only-of-type {\n",
       "        vertical-align: middle;\n",
       "    }\n",
       "\n",
       "    .dataframe tbody tr th {\n",
       "        vertical-align: top;\n",
       "    }\n",
       "\n",
       "    .dataframe thead th {\n",
       "        text-align: right;\n",
       "    }\n",
       "</style>\n",
       "<table border=\"1\" class=\"dataframe\">\n",
       "  <thead>\n",
       "    <tr style=\"text-align: right;\">\n",
       "      <th></th>\n",
       "      <th>comment</th>\n",
       "      <th>text_lemmatized</th>\n",
       "      <th>encoded_category</th>\n",
       "    </tr>\n",
       "    <tr>\n",
       "      <th>index</th>\n",
       "      <th></th>\n",
       "      <th></th>\n",
       "      <th></th>\n",
       "    </tr>\n",
       "  </thead>\n",
       "  <tbody>\n",
       "    <tr>\n",
       "      <th>0</th>\n",
       "      <td>The reduction notice applied to  people</td>\n",
       "      <td>reduct notic appli peopl</td>\n",
       "      <td>0</td>\n",
       "    </tr>\n",
       "    <tr>\n",
       "      <th>1</th>\n",
       "      <td>March  A leakage in the gypsum pond was detec...</td>\n",
       "      <td>march a leakag gypsum pond detect today talviv...</td>\n",
       "      <td>0</td>\n",
       "    </tr>\n",
       "    <tr>\n",
       "      <th>2</th>\n",
       "      <td>A total of  jobs will be reduced at the Raahe ...</td>\n",
       "      <td>a total job reduc raah steel work</td>\n",
       "      <td>0</td>\n",
       "    </tr>\n",
       "    <tr>\n",
       "      <th>3</th>\n",
       "      <td>As a result some  persons will no longer be ne...</td>\n",
       "      <td>a result person long need</td>\n",
       "      <td>0</td>\n",
       "    </tr>\n",
       "    <tr>\n",
       "      <th>4</th>\n",
       "      <td>Biohit said that it will reduce the number of ...</td>\n",
       "      <td>biohit reduc number leas personnel lay personnel</td>\n",
       "      <td>0</td>\n",
       "    </tr>\n",
       "    <tr>\n",
       "      <th>...</th>\n",
       "      <td>...</td>\n",
       "      <td>...</td>\n",
       "      <td>...</td>\n",
       "    </tr>\n",
       "    <tr>\n",
       "      <th>4541</th>\n",
       "      <td>The apartment block will be welllocated  in ea...</td>\n",
       "      <td>apart block wellloc easi reach citi center clo...</td>\n",
       "      <td>2</td>\n",
       "    </tr>\n",
       "    <tr>\n",
       "      <th>4542</th>\n",
       "      <td>The antibody  given at repeated doses of up to...</td>\n",
       "      <td>antibodi give repeat dose mgkg gener well tole...</td>\n",
       "      <td>2</td>\n",
       "    </tr>\n",
       "    <tr>\n",
       "      <th>4543</th>\n",
       "      <td>Danske Bank AS DANSKE DC jumped  percent to  k...</td>\n",
       "      <td>dansk bank a dansk dc jump percent krone rebou...</td>\n",
       "      <td>2</td>\n",
       "    </tr>\n",
       "    <tr>\n",
       "      <th>4544</th>\n",
       "      <td>Our superior customer centricity and expertise...</td>\n",
       "      <td>our superior custom centric expertis digit ser...</td>\n",
       "      <td>2</td>\n",
       "    </tr>\n",
       "    <tr>\n",
       "      <th>4545</th>\n",
       "      <td>The  target for net sales has been set at EUR ...</td>\n",
       "      <td>target net set bn target return invest</td>\n",
       "      <td>2</td>\n",
       "    </tr>\n",
       "  </tbody>\n",
       "</table>\n",
       "<p>4546 rows × 3 columns</p>\n",
       "</div>"
      ],
      "text/plain": [
       "                                                 comment  \\\n",
       "index                                                      \n",
       "0               The reduction notice applied to  people    \n",
       "1       March  A leakage in the gypsum pond was detec...   \n",
       "2      A total of  jobs will be reduced at the Raahe ...   \n",
       "3      As a result some  persons will no longer be ne...   \n",
       "4      Biohit said that it will reduce the number of ...   \n",
       "...                                                  ...   \n",
       "4541   The apartment block will be welllocated  in ea...   \n",
       "4542   The antibody  given at repeated doses of up to...   \n",
       "4543   Danske Bank AS DANSKE DC jumped  percent to  k...   \n",
       "4544   Our superior customer centricity and expertise...   \n",
       "4545   The  target for net sales has been set at EUR ...   \n",
       "\n",
       "                                         text_lemmatized  encoded_category  \n",
       "index                                                                       \n",
       "0                               reduct notic appli peopl                 0  \n",
       "1      march a leakag gypsum pond detect today talviv...                 0  \n",
       "2                      a total job reduc raah steel work                 0  \n",
       "3                              a result person long need                 0  \n",
       "4       biohit reduc number leas personnel lay personnel                 0  \n",
       "...                                                  ...               ...  \n",
       "4541   apart block wellloc easi reach citi center clo...                 2  \n",
       "4542   antibodi give repeat dose mgkg gener well tole...                 2  \n",
       "4543   dansk bank a dansk dc jump percent krone rebou...                 2  \n",
       "4544   our superior custom centric expertis digit ser...                 2  \n",
       "4545              target net set bn target return invest                 2  \n",
       "\n",
       "[4546 rows x 3 columns]"
      ]
     },
     "execution_count": 21,
     "metadata": {},
     "output_type": "execute_result"
    }
   ],
   "source": [
    "test250=indexGenerator(test250)\n",
    "test250"
   ]
  },
  {
   "cell_type": "code",
   "execution_count": 62,
   "id": "865c9edd",
   "metadata": {},
   "outputs": [],
   "source": [
    "pred=model2.predict_proba(test250.text_lemmatized[0:1])\n"
   ]
  },
  {
   "cell_type": "code",
   "execution_count": 63,
   "id": "21600eee",
   "metadata": {},
   "outputs": [],
   "source": [
    "def dataTx(n,df_test,df_train):\n",
    "    df_train=df_train.append(df_test[n:n+1])\n",
    "    df_test=df_test.drop(n)\n",
    "    return df_test,df_train\n",
    "df1,df2=dataTx(3,test250,train250)"
   ]
  },
  {
   "cell_type": "code",
   "execution_count": 64,
   "id": "664e1c0b",
   "metadata": {},
   "outputs": [
    {
     "data": {
      "text/plain": [
       "((4546, 3), (300, 3))"
      ]
     },
     "execution_count": 64,
     "metadata": {},
     "output_type": "execute_result"
    }
   ],
   "source": [
    "test250.shape,train250.shape"
   ]
  },
  {
   "cell_type": "code",
   "execution_count": 65,
   "id": "cb192f4c",
   "metadata": {},
   "outputs": [],
   "source": [
    "df1,df2=dataTx(3,test250,train250)"
   ]
  },
  {
   "cell_type": "code",
   "execution_count": 66,
   "id": "55c60ad5",
   "metadata": {},
   "outputs": [
    {
     "data": {
      "text/plain": [
       "((4545, 3), (301, 3))"
      ]
     },
     "execution_count": 66,
     "metadata": {},
     "output_type": "execute_result"
    }
   ],
   "source": [
    "df1.shape,df2.shape"
   ]
  },
  {
   "cell_type": "markdown",
   "id": "fe630c29",
   "metadata": {},
   "source": [
    "# active learning creation"
   ]
  },
  {
   "cell_type": "code",
   "execution_count": 67,
   "id": "72f3b051",
   "metadata": {},
   "outputs": [],
   "source": [
    "df_test,df_train=test250,train250"
   ]
  },
  {
   "cell_type": "code",
   "execution_count": 68,
   "id": "b6f62b29",
   "metadata": {},
   "outputs": [
    {
     "name": "stdout",
     "output_type": "stream",
     "text": [
      "557\n",
      "test shape (4546, 3) train shape (300, 3)\n",
      "new test shape (3989, 3) new train shape (799, 3)\n",
      "MODEL - LINEAR SVC\n",
      "accuracy score: 71.95%\n",
      "[[ 228  149   78]\n",
      " [  88 2135  167]\n",
      " [  84  553  507]]\n",
      "              precision    recall  f1-score   support\n",
      "\n",
      "           0       0.57      0.50      0.53       455\n",
      "           1       0.75      0.89      0.82      2390\n",
      "           2       0.67      0.44      0.53      1144\n",
      "\n",
      "    accuracy                           0.72      3989\n",
      "   macro avg       0.67      0.61      0.63      3989\n",
      "weighted avg       0.71      0.72      0.70      3989\n",
      "\n"
     ]
    }
   ],
   "source": [
    "pipe2 = Pipeline([('tfidf', TfidfVectorizer()),\n",
    "                 ('model', calibrated_svc)])\n",
    "\n",
    "model2 = pipe2.fit(df_train.text_lemmatized, df_train.encoded_category)\n",
    "all_prediction = model2.predict_proba(df_test.text_lemmatized)\n",
    "\n",
    "\n",
    "ine,_=all_prediction.shape\n",
    "\n",
    "lis=[]\n",
    "lis3=[]\n",
    "for i in range(ine):\n",
    "    if (maxConflictFinder(all_prediction[i]) != None):\n",
    "        lis.append(maxConflictFinder(all_prediction[i]))\n",
    "        lis3.append(i)\n",
    "        \n",
    "print(len(lis3))\n",
    "\n",
    "print(\"test shape\",df_test.shape,\"train shape\",df_train.shape) \n",
    "\n",
    "df_test=indexGenerator(df_test)\n",
    "df_train=indexGenerator(df_train)\n",
    "\n",
    "for i in lis3:\n",
    "    df_test,df_train=dataTx(i,df_test,df_train)\n",
    "    \n",
    "df_test=indexGenerator(df_test)\n",
    "df_train=indexGenerator(df_train)\n",
    "\n",
    "print(\"new test shape\",df_test.shape,\"new train shape\",df_train.shape) \n",
    "\n",
    "\n",
    "pipe1 = Pipeline([('tfidf', TfidfVectorizer()),\n",
    "                 ('model', LinearSVC())])\n",
    "\n",
    "model = pipe1.fit(df_train.text_lemmatized, df_train.encoded_category)\n",
    "prediction = model.predict(df_test.text_lemmatized)\n",
    "print(\"MODEL - LINEAR SVC\")\n",
    "print(\"accuracy score: {}%\".format(round(accuracy_score(df_test.encoded_category, prediction)*100,2)))\n",
    "print(confusion_matrix(df_test.encoded_category, prediction))\n",
    "print(classification_report(df_test.encoded_category, prediction))"
   ]
  },
  {
   "cell_type": "code",
   "execution_count": 69,
   "id": "c79af138",
   "metadata": {},
   "outputs": [
    {
     "name": "stdout",
     "output_type": "stream",
     "text": [
      "MODEL - LINEAR SVC\n",
      "accuracy score: 71.95%\n",
      "[[ 228  149   78]\n",
      " [  88 2135  167]\n",
      " [  84  553  507]]\n",
      "              precision    recall  f1-score   support\n",
      "\n",
      "           0       0.57      0.50      0.53       455\n",
      "           1       0.75      0.89      0.82      2390\n",
      "           2       0.67      0.44      0.53      1144\n",
      "\n",
      "    accuracy                           0.72      3989\n",
      "   macro avg       0.67      0.61      0.63      3989\n",
      "weighted avg       0.71      0.72      0.70      3989\n",
      "\n"
     ]
    }
   ],
   "source": [
    "pipe1 = Pipeline([('tfidf', TfidfVectorizer()),\n",
    "                 ('model', LinearSVC())])\n",
    "\n",
    "model = pipe1.fit(df_train.text_lemmatized, df_train.encoded_category)\n",
    "prediction = model.predict(df_test.text_lemmatized)\n",
    "print(\"MODEL - LINEAR SVC\")\n",
    "print(\"accuracy score: {}%\".format(round(accuracy_score(df_test.encoded_category, prediction)*100,2)))\n",
    "print(confusion_matrix(df_test.encoded_category, prediction))\n",
    "print(classification_report(df_test.encoded_category, prediction))"
   ]
  },
  {
   "cell_type": "code",
   "execution_count": 32,
   "id": "c676901a",
   "metadata": {},
   "outputs": [
    {
     "name": "stdout",
     "output_type": "stream",
     "text": [
      "positive:(1363, 3)\n",
      "neutral:(2879, 3)\n",
      "negative:(604, 3)\n"
     ]
    }
   ],
   "source": [
    "df_surprise=tweet_df[tweet_df['encoded_category']==0]\n",
    "df_fear    =tweet_df[tweet_df['encoded_category']==1]\n",
    "df_joy     =tweet_df[tweet_df['encoded_category']==2]\n",
    "\n",
    "\n",
    "print(f'positive:{df_joy.shape}')\n",
    "print(f'neutral:{df_fear.shape}')\n",
    "print(f'negative:{df_surprise.shape}')"
   ]
  },
  {
   "cell_type": "code",
   "execution_count": 37,
   "id": "ce762381",
   "metadata": {},
   "outputs": [],
   "source": [
    "df_test,df_train=test250,train250\n",
    "no_conflict_elements=[]\n",
    "accuracy_list=[]"
   ]
  },
  {
   "cell_type": "code",
   "execution_count": 38,
   "id": "f5d8c06b",
   "metadata": {},
   "outputs": [
    {
     "name": "stdout",
     "output_type": "stream",
     "text": [
      "number of training samples :\n",
      "MODEL - LINEAR SVC\n",
      "accuracy score: 74.64%\n",
      "[[ 59  42  20]\n",
      " [ 16 502  58]\n",
      " [ 11  99 163]]\n",
      "              precision    recall  f1-score   support\n",
      "\n",
      "           0       0.69      0.49      0.57       121\n",
      "           1       0.78      0.87      0.82       576\n",
      "           2       0.68      0.60      0.63       273\n",
      "\n",
      "    accuracy                           0.75       970\n",
      "   macro avg       0.71      0.65      0.68       970\n",
      "weighted avg       0.74      0.75      0.74       970\n",
      "\n"
     ]
    }
   ],
   "source": [
    "tweet_df.shape\n",
    "x_train,x_test,y_train,y_test = train_test_split(tweet_df.text_lemmatized,tweet_df.encoded_category,test_size = 0.20 , random_state = 0,stratify=tweet_df.encoded_category)\n",
    "x_train.shape,x_test.shape,y_train.shape,y_test.shape\n",
    "pipe = Pipeline([('tfidf', TfidfVectorizer()),\n",
    "                 ('model', LinearSVC())])\n",
    "\n",
    "model = pipe.fit(x_train, y_train)\n",
    "prediction = model.predict(x_test)\n",
    "print(\"number of training samples :\",)\n",
    "print(\"MODEL - LINEAR SVC\")\n",
    "print(\"accuracy score: {}%\".format(round(accuracy_score(y_test, prediction)*100,2)))\n",
    "print(confusion_matrix(y_test, prediction))\n",
    "print(classification_report(y_test, prediction))"
   ]
  },
  {
   "cell_type": "code",
   "execution_count": 39,
   "id": "71aae933",
   "metadata": {},
   "outputs": [],
   "source": [
    "def dataTx_trial(txlist,df_test1,df_train1):\n",
    "    for n in txlist:\n",
    "        df_train1=df_train1.append(indexGenerator((df_test1.iloc[n].to_frame()).transpose()))\n",
    "    for k in txlist:\n",
    "        df_test1=df_test1.drop(k)\n",
    "    return df_test1,df_train1\n"
   ]
  },
  {
   "cell_type": "code",
   "execution_count": 40,
   "id": "1203d5d4",
   "metadata": {
    "scrolled": false
   },
   "outputs": [
    {
     "name": "stdout",
     "output_type": "stream",
     "text": [
      "############### ITERATION NO 1 ###############################\n",
      "557\n",
      "test shape (4546, 4) train shape (300, 4)\n",
      "new test shape (3989, 3) new train shape (857, 3)\n",
      "    \n",
      "Negative:(149, 3)\n",
      "Positive:(219, 3)\n",
      "Neutral:(489, 3)\n",
      "    \n",
      "MODEL - LINEAR SVC\n",
      "accuracy score: 67.91%\n",
      "[[ 209  145  101]\n",
      " [ 108 2048  234]\n",
      " [ 105  587  452]]\n",
      "              precision    recall  f1-score   support\n",
      "\n",
      "           0       0.50      0.46      0.48       455\n",
      "           1       0.74      0.86      0.79      2390\n",
      "           2       0.57      0.40      0.47      1144\n",
      "\n",
      "    accuracy                           0.68      3989\n",
      "   macro avg       0.60      0.57      0.58      3989\n",
      "weighted avg       0.66      0.68      0.66      3989\n",
      "\n",
      "############### ITERATION NO 2 ###############################\n",
      "133\n",
      "test shape (3989, 3) train shape (857, 3)\n",
      "new test shape (3856, 3) new train shape (990, 3)\n",
      "    \n",
      "Negative:(193, 3)\n",
      "Positive:(259, 3)\n",
      "Neutral:(538, 3)\n",
      "    \n",
      "MODEL - LINEAR SVC\n",
      "accuracy score: 69.48%\n",
      "[[ 206  122   83]\n",
      " [  83 2016  242]\n",
      " [  76  571  457]]\n",
      "              precision    recall  f1-score   support\n",
      "\n",
      "           0       0.56      0.50      0.53       411\n",
      "           1       0.74      0.86      0.80      2341\n",
      "           2       0.58      0.41      0.48      1104\n",
      "\n",
      "    accuracy                           0.69      3856\n",
      "   macro avg       0.63      0.59      0.60      3856\n",
      "weighted avg       0.68      0.69      0.68      3856\n",
      "\n",
      "############### ITERATION NO 3 ###############################\n",
      "98\n",
      "test shape (3856, 3) train shape (990, 3)\n",
      "new test shape (3758, 3) new train shape (1088, 3)\n",
      "    \n",
      "Negative:(240, 3)\n",
      "Positive:(282, 3)\n",
      "Neutral:(566, 3)\n",
      "    \n",
      "MODEL - LINEAR SVC\n",
      "accuracy score: 70.68%\n",
      "[[ 195  119   50]\n",
      " [  67 2006  240]\n",
      " [  74  552  455]]\n",
      "              precision    recall  f1-score   support\n",
      "\n",
      "           0       0.58      0.54      0.56       364\n",
      "           1       0.75      0.87      0.80      2313\n",
      "           2       0.61      0.42      0.50      1081\n",
      "\n",
      "    accuracy                           0.71      3758\n",
      "   macro avg       0.65      0.61      0.62      3758\n",
      "weighted avg       0.69      0.71      0.69      3758\n",
      "\n",
      "############### ITERATION NO 4 ###############################\n",
      "79\n",
      "test shape (3758, 3) train shape (1088, 3)\n",
      "new test shape (3679, 3) new train shape (1167, 3)\n",
      "    \n",
      "Negative:(268, 3)\n",
      "Positive:(306, 3)\n",
      "Neutral:(593, 3)\n",
      "    \n",
      "MODEL - LINEAR SVC\n",
      "accuracy score: 71.87%\n",
      "[[ 181  111   44]\n",
      " [  43 1999  244]\n",
      " [  55  538  464]]\n",
      "              precision    recall  f1-score   support\n",
      "\n",
      "           0       0.65      0.54      0.59       336\n",
      "           1       0.75      0.87      0.81      2286\n",
      "           2       0.62      0.44      0.51      1057\n",
      "\n",
      "    accuracy                           0.72      3679\n",
      "   macro avg       0.67      0.62      0.64      3679\n",
      "weighted avg       0.71      0.72      0.70      3679\n",
      "\n",
      "############### ITERATION NO 5 ###############################\n",
      "48\n",
      "test shape (3679, 3) train shape (1167, 3)\n",
      "new test shape (3631, 3) new train shape (1215, 3)\n",
      "    \n",
      "Negative:(288, 3)\n",
      "Positive:(318, 3)\n",
      "Neutral:(609, 3)\n",
      "    \n",
      "MODEL - LINEAR SVC\n",
      "accuracy score: 72.35%\n",
      "[[ 179  101   36]\n",
      " [  42 1992  236]\n",
      " [  57  532  456]]\n",
      "              precision    recall  f1-score   support\n",
      "\n",
      "           0       0.64      0.57      0.60       316\n",
      "           1       0.76      0.88      0.81      2270\n",
      "           2       0.63      0.44      0.51      1045\n",
      "\n",
      "    accuracy                           0.72      3631\n",
      "   macro avg       0.68      0.63      0.64      3631\n",
      "weighted avg       0.71      0.72      0.71      3631\n",
      "\n",
      "############### ITERATION NO 6 ###############################\n",
      "37\n",
      "test shape (3631, 3) train shape (1215, 3)\n",
      "new test shape (3594, 3) new train shape (1252, 3)\n",
      "    \n",
      "Negative:(299, 3)\n",
      "Positive:(329, 3)\n",
      "Neutral:(624, 3)\n",
      "    \n",
      "MODEL - LINEAR SVC\n",
      "accuracy score: 72.7%\n",
      "[[ 172   95   38]\n",
      " [  40 2005  210]\n",
      " [  52  546  436]]\n",
      "              precision    recall  f1-score   support\n",
      "\n",
      "           0       0.65      0.56      0.60       305\n",
      "           1       0.76      0.89      0.82      2255\n",
      "           2       0.64      0.42      0.51      1034\n",
      "\n",
      "    accuracy                           0.73      3594\n",
      "   macro avg       0.68      0.62      0.64      3594\n",
      "weighted avg       0.71      0.73      0.71      3594\n",
      "\n",
      "############### ITERATION NO 7 ###############################\n",
      "36\n",
      "test shape (3594, 3) train shape (1252, 3)\n",
      "new test shape (3558, 3) new train shape (1288, 3)\n",
      "    \n",
      "Negative:(312, 3)\n",
      "Positive:(336, 3)\n",
      "Neutral:(640, 3)\n",
      "    \n",
      "MODEL - LINEAR SVC\n",
      "accuracy score: 73.02%\n",
      "[[ 165   92   35]\n",
      " [  35 2001  203]\n",
      " [  51  544  432]]\n",
      "              precision    recall  f1-score   support\n",
      "\n",
      "           0       0.66      0.57      0.61       292\n",
      "           1       0.76      0.89      0.82      2239\n",
      "           2       0.64      0.42      0.51      1027\n",
      "\n",
      "    accuracy                           0.73      3558\n",
      "   macro avg       0.69      0.63      0.65      3558\n",
      "weighted avg       0.72      0.73      0.71      3558\n",
      "\n",
      "############### ITERATION NO 8 ###############################\n",
      "28\n",
      "test shape (3558, 3) train shape (1288, 3)\n",
      "new test shape (3530, 3) new train shape (1316, 3)\n",
      "    \n",
      "Negative:(320, 3)\n",
      "Positive:(345, 3)\n",
      "Neutral:(651, 3)\n",
      "    \n",
      "MODEL - LINEAR SVC\n",
      "accuracy score: 73.0%\n",
      "[[ 162   89   33]\n",
      " [  35 1990  203]\n",
      " [  47  546  425]]\n",
      "              precision    recall  f1-score   support\n",
      "\n",
      "           0       0.66      0.57      0.61       284\n",
      "           1       0.76      0.89      0.82      2228\n",
      "           2       0.64      0.42      0.51      1018\n",
      "\n",
      "    accuracy                           0.73      3530\n",
      "   macro avg       0.69      0.63      0.65      3530\n",
      "weighted avg       0.72      0.73      0.71      3530\n",
      "\n",
      "############### ITERATION NO 9 ###############################\n",
      "21\n",
      "test shape (3530, 3) train shape (1316, 3)\n",
      "new test shape (3509, 3) new train shape (1337, 3)\n",
      "    \n",
      "Negative:(324, 3)\n",
      "Positive:(351, 3)\n",
      "Neutral:(662, 3)\n",
      "    \n",
      "MODEL - LINEAR SVC\n",
      "accuracy score: 73.24%\n",
      "[[ 158   88   34]\n",
      " [  36 1982  199]\n",
      " [  45  537  430]]\n",
      "              precision    recall  f1-score   support\n",
      "\n",
      "           0       0.66      0.56      0.61       280\n",
      "           1       0.76      0.89      0.82      2217\n",
      "           2       0.65      0.42      0.51      1012\n",
      "\n",
      "    accuracy                           0.73      3509\n",
      "   macro avg       0.69      0.63      0.65      3509\n",
      "weighted avg       0.72      0.73      0.72      3509\n",
      "\n",
      "############### ITERATION NO 10 ###############################\n",
      "6\n",
      "test shape (3509, 3) train shape (1337, 3)\n",
      "new test shape (3503, 3) new train shape (1343, 3)\n",
      "    \n",
      "Negative:(324, 3)\n",
      "Positive:(355, 3)\n",
      "Neutral:(664, 3)\n",
      "    \n",
      "MODEL - LINEAR SVC\n",
      "accuracy score: 73.22%\n",
      "[[ 159   88   33]\n",
      " [  35 1982  198]\n",
      " [  45  539  424]]\n",
      "              precision    recall  f1-score   support\n",
      "\n",
      "           0       0.67      0.57      0.61       280\n",
      "           1       0.76      0.89      0.82      2215\n",
      "           2       0.65      0.42      0.51      1008\n",
      "\n",
      "    accuracy                           0.73      3503\n",
      "   macro avg       0.69      0.63      0.65      3503\n",
      "weighted avg       0.72      0.73      0.72      3503\n",
      "\n",
      "############### ITERATION NO 11 ###############################\n",
      "2\n",
      "test shape (3503, 3) train shape (1343, 3)\n",
      "new test shape (3501, 3) new train shape (1345, 3)\n",
      "    \n",
      "Negative:(325, 3)\n",
      "Positive:(356, 3)\n",
      "Neutral:(664, 3)\n",
      "    \n",
      "MODEL - LINEAR SVC\n",
      "accuracy score: 73.21%\n",
      "[[ 159   88   32]\n",
      " [  36 1982  197]\n",
      " [  45  540  422]]\n",
      "              precision    recall  f1-score   support\n",
      "\n",
      "           0       0.66      0.57      0.61       279\n",
      "           1       0.76      0.89      0.82      2215\n",
      "           2       0.65      0.42      0.51      1007\n",
      "\n",
      "    accuracy                           0.73      3501\n",
      "   macro avg       0.69      0.63      0.65      3501\n",
      "weighted avg       0.72      0.73      0.72      3501\n",
      "\n",
      "############### ITERATION NO 12 ###############################\n",
      "3\n",
      "test shape (3501, 3) train shape (1345, 3)\n",
      "new test shape (3498, 3) new train shape (1348, 3)\n",
      "    \n",
      "Negative:(325, 3)\n",
      "Positive:(357, 3)\n",
      "Neutral:(666, 3)\n",
      "    \n",
      "MODEL - LINEAR SVC\n",
      "accuracy score: 73.33%\n",
      "[[ 159   89   31]\n",
      " [  35 1976  202]\n",
      " [  44  532  430]]\n",
      "              precision    recall  f1-score   support\n",
      "\n",
      "           0       0.67      0.57      0.62       279\n",
      "           1       0.76      0.89      0.82      2213\n",
      "           2       0.65      0.43      0.52      1006\n",
      "\n",
      "    accuracy                           0.73      3498\n",
      "   macro avg       0.69      0.63      0.65      3498\n",
      "weighted avg       0.72      0.73      0.72      3498\n",
      "\n",
      "############### ITERATION NO 13 ###############################\n",
      "1\n",
      "test shape (3498, 3) train shape (1348, 3)\n",
      "new test shape (3497, 3) new train shape (1349, 3)\n",
      "    \n",
      "Negative:(325, 3)\n",
      "Positive:(357, 3)\n",
      "Neutral:(667, 3)\n",
      "    \n",
      "MODEL - LINEAR SVC\n",
      "accuracy score: 73.23%\n",
      "[[ 159   88   32]\n",
      " [  35 1973  204]\n",
      " [  45  532  429]]\n",
      "              precision    recall  f1-score   support\n",
      "\n",
      "           0       0.67      0.57      0.61       279\n",
      "           1       0.76      0.89      0.82      2212\n",
      "           2       0.65      0.43      0.51      1006\n",
      "\n",
      "    accuracy                           0.73      3497\n",
      "   macro avg       0.69      0.63      0.65      3497\n",
      "weighted avg       0.72      0.73      0.72      3497\n",
      "\n",
      "############### ITERATION NO 14 ###############################\n",
      "0\n",
      "test shape (3497, 3) train shape (1349, 3)\n",
      "new test shape (3497, 3) new train shape (1349, 3)\n",
      "    \n",
      "Negative:(325, 3)\n",
      "Positive:(357, 3)\n",
      "Neutral:(667, 3)\n",
      "    \n",
      "MODEL - LINEAR SVC\n",
      "accuracy score: 73.23%\n",
      "[[ 159   88   32]\n",
      " [  35 1973  204]\n",
      " [  45  532  429]]\n",
      "              precision    recall  f1-score   support\n",
      "\n",
      "           0       0.67      0.57      0.61       279\n",
      "           1       0.76      0.89      0.82      2212\n",
      "           2       0.65      0.43      0.51      1006\n",
      "\n",
      "    accuracy                           0.73      3497\n",
      "   macro avg       0.69      0.63      0.65      3497\n",
      "weighted avg       0.72      0.73      0.72      3497\n",
      "\n"
     ]
    }
   ],
   "source": [
    "for k in range(100):\n",
    "    print(\"###############\",\"ITERATION NO\",k+1,\"###############################\")\n",
    "    pipe2 = Pipeline([('tfidf', TfidfVectorizer()),\n",
    "                     ('model', calibrated_svc)])\n",
    "    model2 = pipe2.fit(df_train.text_lemmatized, df_train.encoded_category)\n",
    "    all_prediction = model2.predict_proba(df_test.text_lemmatized)\n",
    "    ine,_=all_prediction.shape\n",
    "    lis=[]\n",
    "    lis3=[]\n",
    "    for i in range(ine):\n",
    "        if (maxConflictFinder(all_prediction[i]) != None):\n",
    "            lis.append(maxConflictFinder(all_prediction[i]))\n",
    "            lis3.append(i)\n",
    "    print(len(lis3))\n",
    "    no_conflict_elements.append(len(lis3))\n",
    "    print(\"test shape\",df_test.shape,\"train shape\",df_train.shape) \n",
    "    df_test=indexGenerator(df_test)\n",
    "    df_train=indexGenerator(df_train)\n",
    "    df_test,df_train=dataTx_trial(lis3,df_test,df_train)\n",
    "    df_test=indexGenerator(df_test)\n",
    "    df_train=indexGenerator(df_train)\n",
    "    df_train['encoded_category']=df_train['encoded_category'].astype(int)\n",
    "    print(\"new test shape\",df_test.shape,\"new train shape\",df_train.shape)\n",
    "    print(\"    \")\n",
    "    df_surprise_al=df_train[df_train['encoded_category']==5]\n",
    "    df_fear_al    =df_train[df_train['encoded_category']==1]\n",
    "    df_joy_al     =df_train[df_train['encoded_category']==2]\n",
    "    df_love_al    =df_train[df_train['encoded_category']==3]\n",
    "    df_anger_al   =df_train[df_train['encoded_category']==0]\n",
    "    df_sadness_al =df_train[df_train['encoded_category']==4]\n",
    "    #print(f'sadness:{df_sadness_al.shape}')\n",
    "    print(f'Negative:{df_anger_al.shape}')\n",
    "    #print(f'love:{df_love_al.shape}')\n",
    "    print(f'Positive:{df_joy_al.shape}')\n",
    "    print(f'Neutral:{df_fear_al.shape}')\n",
    "    #print(f'surprise:{df_surprise_al.shape}')\n",
    "    pipe1 = Pipeline([('tfidf', TfidfVectorizer()),\n",
    "                     ('model', LinearSVC())])\n",
    "    model = pipe1.fit(df_train.text_lemmatized, df_train.encoded_category)\n",
    "    prediction = model.predict(df_test.text_lemmatized)\n",
    "    print(\"    \")\n",
    "    print(\"MODEL - LINEAR SVC\")\n",
    "    print(\"accuracy score: {}%\".format(round(accuracy_score(df_test.encoded_category, prediction)*100,2)))\n",
    "    accuracy_list.append(format(round(accuracy_score(df_test.encoded_category, prediction)*100,2)))\n",
    "    print(confusion_matrix(df_test.encoded_category, prediction))\n",
    "    print(classification_report(df_test.encoded_category, prediction))\n",
    "    if(len(lis3)==0):\n",
    "        break"
   ]
  },
  {
   "cell_type": "code",
   "execution_count": 35,
   "id": "ce27401a",
   "metadata": {},
   "outputs": [
    {
     "data": {
      "image/png": "[encoded data removed]",
      "text/plain": [
       "<Figure size 432x288 with 1 Axes>"
      ]
     },
     "metadata": {
      "needs_background": "light"
     },
     "output_type": "display_data"
    },
    {
     "data": {
      "image/png": "[encoded data removed]",
      "text/plain": [
       "<Figure size 432x288 with 1 Axes>"
      ]
     },
     "metadata": {
      "needs_background": "light"
     },
     "output_type": "display_data"
    }
   ],
   "source": [
    "import matplotlib.pyplot as plt\n",
    "# x axis values\n",
    "x_axis=np.arange(0,len(no_conflict_elements))\n",
    "# corresponding y axis values\n",
    "y = accuracy_list\n",
    "# plotting the points\n",
    "plt.plot(x_axis, y)\n",
    "# naming the x axis\n",
    "plt.xlabel('number of iteration')\n",
    "# naming the y axis\n",
    "plt.ylabel('accuracy')\n",
    "# giving a title to my graph\n",
    "plt.title('accuracy throughout iteration')\n",
    "# function to show the plot\n",
    "plt.show()\n",
    "y = no_conflict_elements\n",
    "# plotting the points\n",
    "plt.plot(x_axis, y)\n",
    "# naming the x axis\n",
    "plt.xlabel('number of iteration')\n",
    "# naming the y axis\n",
    "plt.ylabel('number of conflicting elements')\n",
    "# giving a title to my graph\n",
    "plt.title('conflicting elements throughout iterations')\n",
    "# function to show the plot\n",
    "plt.show()"
   ]
  },
  {
   "cell_type": "code",
   "execution_count": null,
   "id": "5fc0d824",
   "metadata": {},
   "outputs": [],
   "source": []
  }
 ],
 "metadata": {
  "kernelspec": {
   "display_name": "Python 3 (ipykernel)",
   "language": "python",
   "name": "python3"
  },
  "language_info": {
   "codemirror_mode": {
    "name": "ipython",
    "version": 3
   },
   "file_extension": ".py",
   "mimetype": "text/x-python",
   "name": "python",
   "nbconvert_exporter": "python",
   "pygments_lexer": "ipython3",
   "version": "3.9.7"
  }
 },
 "nbformat": 4,
 "nbformat_minor": 5
}
